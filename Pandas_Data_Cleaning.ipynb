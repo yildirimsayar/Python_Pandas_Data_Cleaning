{
 "cells": [
  {
   "cell_type": "code",
   "execution_count": 1,
   "id": "82f3ac4c",
   "metadata": {},
   "outputs": [],
   "source": [
    "import pandas as pd\n",
    "import numpy as np"
   ]
  },
  {
   "cell_type": "code",
   "execution_count": 18,
   "id": "98793438",
   "metadata": {},
   "outputs": [],
   "source": [
    "df = pd.read_excel(r\"C:\\Users\\Yıldırım\\Downloads\\Customer Call List.xlsx\")"
   ]
  },
  {
   "cell_type": "code",
   "execution_count": 7,
   "id": "6a2a6686",
   "metadata": {},
   "outputs": [
    {
     "data": {
      "text/html": [
       "<div>\n",
       "<style scoped>\n",
       "    .dataframe tbody tr th:only-of-type {\n",
       "        vertical-align: middle;\n",
       "    }\n",
       "\n",
       "    .dataframe tbody tr th {\n",
       "        vertical-align: top;\n",
       "    }\n",
       "\n",
       "    .dataframe thead th {\n",
       "        text-align: right;\n",
       "    }\n",
       "</style>\n",
       "<table border=\"1\" class=\"dataframe\">\n",
       "  <thead>\n",
       "    <tr style=\"text-align: right;\">\n",
       "      <th></th>\n",
       "      <th>CustomerID</th>\n",
       "      <th>First_Name</th>\n",
       "      <th>Last_Name</th>\n",
       "      <th>Phone_Number</th>\n",
       "      <th>Address</th>\n",
       "      <th>Paying Customer</th>\n",
       "      <th>Do_Not_Contact</th>\n",
       "      <th>Not_Useful_Column</th>\n",
       "    </tr>\n",
       "  </thead>\n",
       "  <tbody>\n",
       "    <tr>\n",
       "      <th>0</th>\n",
       "      <td>1001</td>\n",
       "      <td>Frodo</td>\n",
       "      <td>Baggins</td>\n",
       "      <td>123-545-5421</td>\n",
       "      <td>123 Shire Lane, Shire</td>\n",
       "      <td>Yes</td>\n",
       "      <td>No</td>\n",
       "      <td>True</td>\n",
       "    </tr>\n",
       "    <tr>\n",
       "      <th>1</th>\n",
       "      <td>1002</td>\n",
       "      <td>Abed</td>\n",
       "      <td>Nadir</td>\n",
       "      <td>123/643/9775</td>\n",
       "      <td>93 West Main Street</td>\n",
       "      <td>No</td>\n",
       "      <td>Yes</td>\n",
       "      <td>False</td>\n",
       "    </tr>\n",
       "    <tr>\n",
       "      <th>2</th>\n",
       "      <td>1003</td>\n",
       "      <td>Walter</td>\n",
       "      <td>/White</td>\n",
       "      <td>7066950392</td>\n",
       "      <td>298 Drugs Driveway</td>\n",
       "      <td>N</td>\n",
       "      <td>NaN</td>\n",
       "      <td>True</td>\n",
       "    </tr>\n",
       "    <tr>\n",
       "      <th>3</th>\n",
       "      <td>1004</td>\n",
       "      <td>Dwight</td>\n",
       "      <td>Schrute</td>\n",
       "      <td>123-543-2345</td>\n",
       "      <td>980 Paper Avenue, Pennsylvania, 18503</td>\n",
       "      <td>Yes</td>\n",
       "      <td>Y</td>\n",
       "      <td>True</td>\n",
       "    </tr>\n",
       "    <tr>\n",
       "      <th>4</th>\n",
       "      <td>1005</td>\n",
       "      <td>Jon</td>\n",
       "      <td>Snow</td>\n",
       "      <td>876|678|3469</td>\n",
       "      <td>123 Dragons Road</td>\n",
       "      <td>Y</td>\n",
       "      <td>No</td>\n",
       "      <td>True</td>\n",
       "    </tr>\n",
       "  </tbody>\n",
       "</table>\n",
       "</div>"
      ],
      "text/plain": [
       "   CustomerID First_Name Last_Name  Phone_Number  \\\n",
       "0        1001      Frodo   Baggins  123-545-5421   \n",
       "1        1002       Abed     Nadir  123/643/9775   \n",
       "2        1003     Walter    /White    7066950392   \n",
       "3        1004     Dwight   Schrute  123-543-2345   \n",
       "4        1005        Jon      Snow  876|678|3469   \n",
       "\n",
       "                                 Address Paying Customer Do_Not_Contact  \\\n",
       "0                  123 Shire Lane, Shire             Yes             No   \n",
       "1                    93 West Main Street              No            Yes   \n",
       "2                     298 Drugs Driveway               N            NaN   \n",
       "3  980 Paper Avenue, Pennsylvania, 18503             Yes              Y   \n",
       "4                       123 Dragons Road               Y             No   \n",
       "\n",
       "   Not_Useful_Column  \n",
       "0               True  \n",
       "1              False  \n",
       "2               True  \n",
       "3               True  \n",
       "4               True  "
      ]
     },
     "execution_count": 7,
     "metadata": {},
     "output_type": "execute_result"
    }
   ],
   "source": [
    "df.head()"
   ]
  },
  {
   "cell_type": "code",
   "execution_count": 8,
   "id": "6927c943",
   "metadata": {},
   "outputs": [
    {
     "name": "stdout",
     "output_type": "stream",
     "text": [
      "<class 'pandas.core.frame.DataFrame'>\n",
      "RangeIndex: 21 entries, 0 to 20\n",
      "Data columns (total 8 columns):\n",
      " #   Column             Non-Null Count  Dtype \n",
      "---  ------             --------------  ----- \n",
      " 0   CustomerID         21 non-null     int64 \n",
      " 1   First_Name         21 non-null     object\n",
      " 2   Last_Name          20 non-null     object\n",
      " 3   Phone_Number       19 non-null     object\n",
      " 4   Address            21 non-null     object\n",
      " 5   Paying Customer    21 non-null     object\n",
      " 6   Do_Not_Contact     17 non-null     object\n",
      " 7   Not_Useful_Column  21 non-null     bool  \n",
      "dtypes: bool(1), int64(1), object(6)\n",
      "memory usage: 1.3+ KB\n"
     ]
    }
   ],
   "source": [
    "df.info()"
   ]
  },
  {
   "cell_type": "code",
   "execution_count": 9,
   "id": "274aa119",
   "metadata": {},
   "outputs": [
    {
     "data": {
      "text/html": [
       "<div>\n",
       "<style scoped>\n",
       "    .dataframe tbody tr th:only-of-type {\n",
       "        vertical-align: middle;\n",
       "    }\n",
       "\n",
       "    .dataframe tbody tr th {\n",
       "        vertical-align: top;\n",
       "    }\n",
       "\n",
       "    .dataframe thead th {\n",
       "        text-align: right;\n",
       "    }\n",
       "</style>\n",
       "<table border=\"1\" class=\"dataframe\">\n",
       "  <thead>\n",
       "    <tr style=\"text-align: right;\">\n",
       "      <th></th>\n",
       "      <th>CustomerID</th>\n",
       "    </tr>\n",
       "  </thead>\n",
       "  <tbody>\n",
       "    <tr>\n",
       "      <th>count</th>\n",
       "      <td>21.000000</td>\n",
       "    </tr>\n",
       "    <tr>\n",
       "      <th>mean</th>\n",
       "      <td>1010.952381</td>\n",
       "    </tr>\n",
       "    <tr>\n",
       "      <th>std</th>\n",
       "      <td>6.127611</td>\n",
       "    </tr>\n",
       "    <tr>\n",
       "      <th>min</th>\n",
       "      <td>1001.000000</td>\n",
       "    </tr>\n",
       "    <tr>\n",
       "      <th>25%</th>\n",
       "      <td>1006.000000</td>\n",
       "    </tr>\n",
       "    <tr>\n",
       "      <th>50%</th>\n",
       "      <td>1011.000000</td>\n",
       "    </tr>\n",
       "    <tr>\n",
       "      <th>75%</th>\n",
       "      <td>1016.000000</td>\n",
       "    </tr>\n",
       "    <tr>\n",
       "      <th>max</th>\n",
       "      <td>1020.000000</td>\n",
       "    </tr>\n",
       "  </tbody>\n",
       "</table>\n",
       "</div>"
      ],
      "text/plain": [
       "        CustomerID\n",
       "count    21.000000\n",
       "mean   1010.952381\n",
       "std       6.127611\n",
       "min    1001.000000\n",
       "25%    1006.000000\n",
       "50%    1011.000000\n",
       "75%    1016.000000\n",
       "max    1020.000000"
      ]
     },
     "execution_count": 9,
     "metadata": {},
     "output_type": "execute_result"
    }
   ],
   "source": [
    "df.describe()"
   ]
  },
  {
   "cell_type": "code",
   "execution_count": 11,
   "id": "3d88fbbd",
   "metadata": {},
   "outputs": [
    {
     "data": {
      "text/plain": [
       "CustomerID           0\n",
       "First_Name           0\n",
       "Last_Name            1\n",
       "Phone_Number         2\n",
       "Address              0\n",
       "Paying Customer      0\n",
       "Do_Not_Contact       4\n",
       "Not_Useful_Column    0\n",
       "dtype: int64"
      ]
     },
     "execution_count": 11,
     "metadata": {},
     "output_type": "execute_result"
    }
   ],
   "source": [
    "df.isna().sum()"
   ]
  },
  {
   "cell_type": "code",
   "execution_count": 33,
   "id": "a9439e89",
   "metadata": {},
   "outputs": [
    {
     "data": {
      "text/plain": [
       "0     False\n",
       "1     False\n",
       "2     False\n",
       "3     False\n",
       "4     False\n",
       "5     False\n",
       "6     False\n",
       "7     False\n",
       "8     False\n",
       "9     False\n",
       "10    False\n",
       "11    False\n",
       "12    False\n",
       "13    False\n",
       "14    False\n",
       "15    False\n",
       "16    False\n",
       "17    False\n",
       "18    False\n",
       "19    False\n",
       "20     True\n",
       "dtype: bool"
      ]
     },
     "execution_count": 33,
     "metadata": {},
     "output_type": "execute_result"
    }
   ],
   "source": [
    "df.duplicated()"
   ]
  },
  {
   "cell_type": "code",
   "execution_count": 39,
   "id": "2bc5f903",
   "metadata": {},
   "outputs": [],
   "source": [
    "df = df.drop_duplicates()"
   ]
  },
  {
   "cell_type": "code",
   "execution_count": 21,
   "id": "b714ef09",
   "metadata": {},
   "outputs": [
    {
     "data": {
      "text/html": [
       "<div>\n",
       "<style scoped>\n",
       "    .dataframe tbody tr th:only-of-type {\n",
       "        vertical-align: middle;\n",
       "    }\n",
       "\n",
       "    .dataframe tbody tr th {\n",
       "        vertical-align: top;\n",
       "    }\n",
       "\n",
       "    .dataframe thead th {\n",
       "        text-align: right;\n",
       "    }\n",
       "</style>\n",
       "<table border=\"1\" class=\"dataframe\">\n",
       "  <thead>\n",
       "    <tr style=\"text-align: right;\">\n",
       "      <th></th>\n",
       "      <th>CustomerID</th>\n",
       "      <th>First_Name</th>\n",
       "      <th>Last_Name</th>\n",
       "      <th>Phone_Number</th>\n",
       "      <th>Address</th>\n",
       "      <th>Paying Customer</th>\n",
       "      <th>Do_Not_Contact</th>\n",
       "    </tr>\n",
       "  </thead>\n",
       "  <tbody>\n",
       "    <tr>\n",
       "      <th>9</th>\n",
       "      <td>1010</td>\n",
       "      <td>Peter</td>\n",
       "      <td>Parker</td>\n",
       "      <td>123-545-5421</td>\n",
       "      <td>25th Main Street, New York</td>\n",
       "      <td>Yes</td>\n",
       "      <td>No</td>\n",
       "    </tr>\n",
       "  </tbody>\n",
       "</table>\n",
       "</div>"
      ],
      "text/plain": [
       "   CustomerID First_Name Last_Name  Phone_Number                     Address  \\\n",
       "9        1010      Peter    Parker  123-545-5421  25th Main Street, New York   \n",
       "\n",
       "  Paying Customer Do_Not_Contact  \n",
       "9             Yes             No  "
      ]
     },
     "execution_count": 21,
     "metadata": {},
     "output_type": "execute_result"
    }
   ],
   "source": [
    "df.drop('Not_Useful_Column',axis = 1,inplace = True)\n",
    "df.sample()"
   ]
  },
  {
   "cell_type": "code",
   "execution_count": 27,
   "id": "d56f889c",
   "metadata": {},
   "outputs": [],
   "source": [
    "df['Last_Name'] = df['Last_Name'].str.strip('/..._')"
   ]
  },
  {
   "cell_type": "code",
   "execution_count": 43,
   "id": "1b44803c",
   "metadata": {},
   "outputs": [
    {
     "data": {
      "text/plain": [
       "0        Baggins\n",
       "1          Nadir\n",
       "2          White\n",
       "3        Schrute\n",
       "4           Snow\n",
       "5        Swanson\n",
       "6         Winger\n",
       "7         Holmes\n",
       "8            NaN\n",
       "9         Parker\n",
       "10        Gamgee\n",
       "11        Potter\n",
       "12        Draper\n",
       "13         Knope\n",
       "14    Flenderson\n",
       "15       Weasley\n",
       "16         Scott\n",
       "17          Kent\n",
       "18        Braton\n",
       "19     Skywalker\n",
       "Name: Last_Name, dtype: object"
      ]
     },
     "execution_count": 43,
     "metadata": {},
     "output_type": "execute_result"
    }
   ],
   "source": [
    "df['Last_Name']"
   ]
  },
  {
   "cell_type": "code",
   "execution_count": 44,
   "id": "a439a9e7",
   "metadata": {},
   "outputs": [
    {
     "data": {
      "text/plain": [
       "0     123-545-5421\n",
       "1     123/643/9775\n",
       "2       7066950392\n",
       "3     123-543-2345\n",
       "4     876|678|3469\n",
       "5     304-762-2467\n",
       "6              NaN\n",
       "7     876|678|3469\n",
       "8              N/a\n",
       "9     123-545-5421\n",
       "10             NaN\n",
       "11      7066950392\n",
       "12    123-543-2345\n",
       "13    876|678|3469\n",
       "14    304-762-2467\n",
       "15    123-545-5421\n",
       "16    123/643/9775\n",
       "17      7066950392\n",
       "18             N/a\n",
       "19    876|678|3469\n",
       "Name: Phone_Number, dtype: object"
      ]
     },
     "execution_count": 44,
     "metadata": {},
     "output_type": "execute_result"
    }
   ],
   "source": [
    "df['Phone_Number']"
   ]
  },
  {
   "cell_type": "code",
   "execution_count": 59,
   "id": "8633763a",
   "metadata": {},
   "outputs": [
    {
     "name": "stderr",
     "output_type": "stream",
     "text": [
      "C:\\Users\\Yıldırım\\AppData\\Local\\Temp\\ipykernel_21200\\4113426728.py:1: FutureWarning: The default value of regex will change from True to False in a future version.\n",
      "  df['Phone_Number'] = df['Phone_Number'].str.replace('[^a-zA-Z0-9]','')\n"
     ]
    },
    {
     "data": {
      "text/plain": [
       "0     1235455421\n",
       "1     1236439775\n",
       "2            NaN\n",
       "3     1235432345\n",
       "4     8766783469\n",
       "5     3047622467\n",
       "6            NaN\n",
       "7     8766783469\n",
       "8             Na\n",
       "9     1235455421\n",
       "10           NaN\n",
       "11           NaN\n",
       "12    1235432345\n",
       "13    8766783469\n",
       "14    3047622467\n",
       "15    1235455421\n",
       "16    1236439775\n",
       "17           NaN\n",
       "18            Na\n",
       "19    8766783469\n",
       "Name: Phone_Number, dtype: object"
      ]
     },
     "execution_count": 59,
     "metadata": {},
     "output_type": "execute_result"
    }
   ],
   "source": [
    "df['Phone_Number'] = df['Phone_Number'].str.replace('[^a-zA-Z0-9]','')\n",
    "df['Phone_Number']"
   ]
  },
  {
   "cell_type": "code",
   "execution_count": 56,
   "id": "2d8019bd",
   "metadata": {},
   "outputs": [],
   "source": [
    "pd.set_option('mode.chained_assignment', None)"
   ]
  },
  {
   "cell_type": "code",
   "execution_count": 67,
   "id": "98743df7",
   "metadata": {},
   "outputs": [],
   "source": [
    "df['Phone_Number'] = df['Phone_Number'].apply(lambda x: str(x))\n"
   ]
  },
  {
   "cell_type": "code",
   "execution_count": 68,
   "id": "3ce4b527",
   "metadata": {},
   "outputs": [],
   "source": [
    "df['Phone_Number'] = df['Phone_Number'].apply(lambda x: x[0:3] + '-' + x[3:6] + '-' + x[6:10])\n"
   ]
  },
  {
   "cell_type": "code",
   "execution_count": 69,
   "id": "a982d083",
   "metadata": {},
   "outputs": [
    {
     "data": {
      "text/plain": [
       "0     123-545-5421\n",
       "1     123-643-9775\n",
       "2            nan--\n",
       "3     123-543-2345\n",
       "4     876-678-3469\n",
       "5     304-762-2467\n",
       "6            nan--\n",
       "7     876-678-3469\n",
       "8             Na--\n",
       "9     123-545-5421\n",
       "10           nan--\n",
       "11           nan--\n",
       "12    123-543-2345\n",
       "13    876-678-3469\n",
       "14    304-762-2467\n",
       "15    123-545-5421\n",
       "16    123-643-9775\n",
       "17           nan--\n",
       "18            Na--\n",
       "19    876-678-3469\n",
       "Name: Phone_Number, dtype: object"
      ]
     },
     "execution_count": 69,
     "metadata": {},
     "output_type": "execute_result"
    }
   ],
   "source": [
    "df['Phone_Number']"
   ]
  },
  {
   "cell_type": "code",
   "execution_count": 70,
   "id": "d64ff91d",
   "metadata": {},
   "outputs": [],
   "source": [
    "df['Phone_Number'] = df['Phone_Number'].str.replace('nan--','')\n",
    "df['Phone_Number'] = df['Phone_Number'].str.replace('Na--','')\n"
   ]
  },
  {
   "cell_type": "code",
   "execution_count": 71,
   "id": "70c580c4",
   "metadata": {},
   "outputs": [
    {
     "data": {
      "text/plain": [
       "0     123-545-5421\n",
       "1     123-643-9775\n",
       "2                 \n",
       "3     123-543-2345\n",
       "4     876-678-3469\n",
       "5     304-762-2467\n",
       "6                 \n",
       "7     876-678-3469\n",
       "8                 \n",
       "9     123-545-5421\n",
       "10                \n",
       "11                \n",
       "12    123-543-2345\n",
       "13    876-678-3469\n",
       "14    304-762-2467\n",
       "15    123-545-5421\n",
       "16    123-643-9775\n",
       "17                \n",
       "18                \n",
       "19    876-678-3469\n",
       "Name: Phone_Number, dtype: object"
      ]
     },
     "execution_count": 71,
     "metadata": {},
     "output_type": "execute_result"
    }
   ],
   "source": [
    "df['Phone_Number']"
   ]
  },
  {
   "cell_type": "code",
   "execution_count": 75,
   "id": "ac10400f",
   "metadata": {},
   "outputs": [],
   "source": [
    "df['Paying Customer'] = df['Paying Customer'].str.replace('Yes','Y')\n",
    "df['Paying Customer'] = df['Paying Customer'].str.replace('No','N')\n",
    "df['Paying Customer'] = df['Paying Customer'].str.replace('N/a','')"
   ]
  },
  {
   "cell_type": "code",
   "execution_count": 76,
   "id": "02175460",
   "metadata": {},
   "outputs": [
    {
     "data": {
      "text/plain": [
       "0     Y\n",
       "1     N\n",
       "2     N\n",
       "3     Y\n",
       "4     Y\n",
       "5     Y\n",
       "6     N\n",
       "7     N\n",
       "8     Y\n",
       "9     Y\n",
       "10    Y\n",
       "11    Y\n",
       "12    Y\n",
       "13    Y\n",
       "14    N\n",
       "15    N\n",
       "16    Y\n",
       "17    Y\n",
       "18     \n",
       "19    Y\n",
       "Name: Paying Customer, dtype: object"
      ]
     },
     "execution_count": 76,
     "metadata": {},
     "output_type": "execute_result"
    }
   ],
   "source": [
    "df['Paying Customer']"
   ]
  },
  {
   "cell_type": "code",
   "execution_count": 81,
   "id": "e8057672",
   "metadata": {},
   "outputs": [
    {
     "data": {
      "text/plain": [
       "0       N\n",
       "1       Y\n",
       "2     NaN\n",
       "3       Y\n",
       "4       N\n",
       "5       Y\n",
       "6       N\n",
       "7       N\n",
       "8     NaN\n",
       "9       N\n",
       "10      N\n",
       "11    NaN\n",
       "12      N\n",
       "13      N\n",
       "14      N\n",
       "15      N\n",
       "16      N\n",
       "17    NaN\n",
       "18      Y\n",
       "19      N\n",
       "Name: Do_Not_Contact, dtype: object"
      ]
     },
     "execution_count": 81,
     "metadata": {},
     "output_type": "execute_result"
    }
   ],
   "source": [
    "df['Do_Not_Contact']"
   ]
  },
  {
   "cell_type": "code",
   "execution_count": 80,
   "id": "c6be263f",
   "metadata": {},
   "outputs": [],
   "source": [
    "df['Do_Not_Contact'] = df['Do_Not_Contact'].str.replace('Yes','Y')\n",
    "df['Do_Not_Contact'] = df['Do_Not_Contact'].str.replace('No','N')"
   ]
  },
  {
   "cell_type": "code",
   "execution_count": 88,
   "id": "6a3ecfdd",
   "metadata": {},
   "outputs": [],
   "source": [
    "df['Do_Not_Contact'] = df['Do_Not_Contact'].str.replace('NaN','')"
   ]
  },
  {
   "cell_type": "code",
   "execution_count": 90,
   "id": "0505a05e",
   "metadata": {},
   "outputs": [],
   "source": [
    "df['Address'] = df['Address'].str.replace('N/a','')"
   ]
  },
  {
   "cell_type": "code",
   "execution_count": 95,
   "id": "c74e7ec8",
   "metadata": {},
   "outputs": [
    {
     "data": {
      "text/plain": [
       "4"
      ]
     },
     "execution_count": 95,
     "metadata": {},
     "output_type": "execute_result"
    }
   ],
   "source": [
    "df['Do_Not_Contact'].isna().sum()"
   ]
  },
  {
   "cell_type": "code",
   "execution_count": 96,
   "id": "c97b6b37",
   "metadata": {},
   "outputs": [],
   "source": [
    "df = df.fillna('')"
   ]
  },
  {
   "cell_type": "code",
   "execution_count": 97,
   "id": "612dcd4c",
   "metadata": {},
   "outputs": [
    {
     "data": {
      "text/plain": [
       "0     N\n",
       "1     Y\n",
       "2      \n",
       "3     Y\n",
       "4     N\n",
       "5     Y\n",
       "6     N\n",
       "7     N\n",
       "8      \n",
       "9     N\n",
       "10    N\n",
       "11     \n",
       "12    N\n",
       "13    N\n",
       "14    N\n",
       "15    N\n",
       "16    N\n",
       "17     \n",
       "18    Y\n",
       "19    N\n",
       "Name: Do_Not_Contact, dtype: object"
      ]
     },
     "execution_count": 97,
     "metadata": {},
     "output_type": "execute_result"
    }
   ],
   "source": [
    "df['Do_Not_Contact']"
   ]
  },
  {
   "cell_type": "code",
   "execution_count": 100,
   "id": "ede99df7",
   "metadata": {},
   "outputs": [],
   "source": [
    "for x in df.index:\n",
    "    if df.loc[x,'Do_Not_Contact'] == 'Y':\n",
    "        df.drop(x,inplace = True)        "
   ]
  },
  {
   "cell_type": "code",
   "execution_count": 102,
   "id": "72fd8707",
   "metadata": {},
   "outputs": [],
   "source": [
    "for x in df.index:\n",
    "    if df.loc[x,'Phone_Number'] == '':\n",
    "        df.drop(x,inplace = True)"
   ]
  },
  {
   "cell_type": "code",
   "execution_count": 105,
   "id": "fbbbd2c9",
   "metadata": {},
   "outputs": [
    {
     "data": {
      "text/html": [
       "<div>\n",
       "<style scoped>\n",
       "    .dataframe tbody tr th:only-of-type {\n",
       "        vertical-align: middle;\n",
       "    }\n",
       "\n",
       "    .dataframe tbody tr th {\n",
       "        vertical-align: top;\n",
       "    }\n",
       "\n",
       "    .dataframe thead th {\n",
       "        text-align: right;\n",
       "    }\n",
       "</style>\n",
       "<table border=\"1\" class=\"dataframe\">\n",
       "  <thead>\n",
       "    <tr style=\"text-align: right;\">\n",
       "      <th></th>\n",
       "      <th>CustomerID</th>\n",
       "      <th>First_Name</th>\n",
       "      <th>Last_Name</th>\n",
       "      <th>Phone_Number</th>\n",
       "      <th>Address</th>\n",
       "      <th>Paying Customer</th>\n",
       "      <th>Do_Not_Contact</th>\n",
       "    </tr>\n",
       "  </thead>\n",
       "  <tbody>\n",
       "    <tr>\n",
       "      <th>0</th>\n",
       "      <td>1001</td>\n",
       "      <td>Frodo</td>\n",
       "      <td>Baggins</td>\n",
       "      <td>123-545-5421</td>\n",
       "      <td>123 Shire Lane, Shire</td>\n",
       "      <td>Y</td>\n",
       "      <td>N</td>\n",
       "    </tr>\n",
       "    <tr>\n",
       "      <th>1</th>\n",
       "      <td>1005</td>\n",
       "      <td>Jon</td>\n",
       "      <td>Snow</td>\n",
       "      <td>876-678-3469</td>\n",
       "      <td>123 Dragons Road</td>\n",
       "      <td>Y</td>\n",
       "      <td>N</td>\n",
       "    </tr>\n",
       "    <tr>\n",
       "      <th>2</th>\n",
       "      <td>1008</td>\n",
       "      <td>Sherlock</td>\n",
       "      <td>Holmes</td>\n",
       "      <td>876-678-3469</td>\n",
       "      <td>98 Clue Drive</td>\n",
       "      <td>N</td>\n",
       "      <td>N</td>\n",
       "    </tr>\n",
       "    <tr>\n",
       "      <th>3</th>\n",
       "      <td>1010</td>\n",
       "      <td>Peter</td>\n",
       "      <td>Parker</td>\n",
       "      <td>123-545-5421</td>\n",
       "      <td>25th Main Street, New York</td>\n",
       "      <td>Y</td>\n",
       "      <td>N</td>\n",
       "    </tr>\n",
       "    <tr>\n",
       "      <th>4</th>\n",
       "      <td>1013</td>\n",
       "      <td>Don</td>\n",
       "      <td>Draper</td>\n",
       "      <td>123-543-2345</td>\n",
       "      <td>2039 Main Street</td>\n",
       "      <td>Y</td>\n",
       "      <td>N</td>\n",
       "    </tr>\n",
       "    <tr>\n",
       "      <th>5</th>\n",
       "      <td>1014</td>\n",
       "      <td>Leslie</td>\n",
       "      <td>Knope</td>\n",
       "      <td>876-678-3469</td>\n",
       "      <td>343 City Parkway</td>\n",
       "      <td>Y</td>\n",
       "      <td>N</td>\n",
       "    </tr>\n",
       "    <tr>\n",
       "      <th>6</th>\n",
       "      <td>1015</td>\n",
       "      <td>Toby</td>\n",
       "      <td>Flenderson</td>\n",
       "      <td>304-762-2467</td>\n",
       "      <td>214 HR Avenue</td>\n",
       "      <td>N</td>\n",
       "      <td>N</td>\n",
       "    </tr>\n",
       "    <tr>\n",
       "      <th>7</th>\n",
       "      <td>1016</td>\n",
       "      <td>Ron</td>\n",
       "      <td>Weasley</td>\n",
       "      <td>123-545-5421</td>\n",
       "      <td>2395 Hogwarts Avenue</td>\n",
       "      <td>N</td>\n",
       "      <td>N</td>\n",
       "    </tr>\n",
       "    <tr>\n",
       "      <th>8</th>\n",
       "      <td>1017</td>\n",
       "      <td>Michael</td>\n",
       "      <td>Scott</td>\n",
       "      <td>123-643-9775</td>\n",
       "      <td>121 Paper Avenue, Pennsylvania</td>\n",
       "      <td>Y</td>\n",
       "      <td>N</td>\n",
       "    </tr>\n",
       "    <tr>\n",
       "      <th>9</th>\n",
       "      <td>1020</td>\n",
       "      <td>Anakin</td>\n",
       "      <td>Skywalker</td>\n",
       "      <td>876-678-3469</td>\n",
       "      <td>910 Tatooine Road, Tatooine</td>\n",
       "      <td>Y</td>\n",
       "      <td>N</td>\n",
       "    </tr>\n",
       "  </tbody>\n",
       "</table>\n",
       "</div>"
      ],
      "text/plain": [
       "   CustomerID First_Name   Last_Name  Phone_Number  \\\n",
       "0        1001      Frodo     Baggins  123-545-5421   \n",
       "1        1005        Jon        Snow  876-678-3469   \n",
       "2        1008   Sherlock      Holmes  876-678-3469   \n",
       "3        1010      Peter      Parker  123-545-5421   \n",
       "4        1013        Don      Draper  123-543-2345   \n",
       "5        1014     Leslie       Knope  876-678-3469   \n",
       "6        1015       Toby  Flenderson  304-762-2467   \n",
       "7        1016        Ron     Weasley  123-545-5421   \n",
       "8        1017   Michael        Scott  123-643-9775   \n",
       "9        1020     Anakin   Skywalker  876-678-3469   \n",
       "\n",
       "                          Address Paying Customer Do_Not_Contact  \n",
       "0           123 Shire Lane, Shire               Y              N  \n",
       "1                123 Dragons Road               Y              N  \n",
       "2                   98 Clue Drive               N              N  \n",
       "3      25th Main Street, New York               Y              N  \n",
       "4                2039 Main Street               Y              N  \n",
       "5                343 City Parkway               Y              N  \n",
       "6                   214 HR Avenue               N              N  \n",
       "7            2395 Hogwarts Avenue               N              N  \n",
       "8  121 Paper Avenue, Pennsylvania               Y              N  \n",
       "9     910 Tatooine Road, Tatooine               Y              N  "
      ]
     },
     "execution_count": 105,
     "metadata": {},
     "output_type": "execute_result"
    }
   ],
   "source": [
    "df = df.reset_index(drop = True)\n",
    "df"
   ]
  }
 ],
 "metadata": {
  "kernelspec": {
   "display_name": "Python 3 (ipykernel)",
   "language": "python",
   "name": "python3"
  },
  "language_info": {
   "codemirror_mode": {
    "name": "ipython",
    "version": 3
   },
   "file_extension": ".py",
   "mimetype": "text/x-python",
   "name": "python",
   "nbconvert_exporter": "python",
   "pygments_lexer": "ipython3",
   "version": "3.9.12"
  }
 },
 "nbformat": 4,
 "nbformat_minor": 5
}
